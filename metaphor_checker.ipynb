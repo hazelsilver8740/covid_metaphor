{
 "cells": [
  {
   "cell_type": "code",
   "execution_count": 1,
   "id": "70c21f57",
   "metadata": {},
   "outputs": [],
   "source": [
    "#Data manipulation\n",
    "import pandas as pd\n",
    "import numpy as np\n",
    "import string"
   ]
  },
  {
   "cell_type": "code",
   "execution_count": 2,
   "id": "97a70e1b",
   "metadata": {},
   "outputs": [],
   "source": [
    "#NLP nltk\n",
    "import nltk\n",
    "from nltk.corpus import wordnet as wn\n",
    "from nltk.corpus import stopwords\n",
    "stop_words = list(stopwords.words(\"english\"))"
   ]
  },
  {
   "cell_type": "code",
   "execution_count": 3,
   "id": "c40478a6",
   "metadata": {},
   "outputs": [],
   "source": [
    "#NLP spaCy\n",
    "import spacy\n",
    "trf = spacy.load('en_core_web_trf')\n",
    "lg = spacy.load('en_core_web_lg')"
   ]
  },
  {
   "cell_type": "code",
   "execution_count": 4,
   "id": "1358496c",
   "metadata": {},
   "outputs": [],
   "source": [
    "#NLP word embeddings\n",
    "import gensim\n",
    "from gensim.test.utils import datapath\n",
    "from gensim import utils\n",
    "import gensim.models\n",
    "from gensim.models import Word2Vec\n",
    "\n",
    "import gensim.downloader as api\n",
    "dataset = api.load(\"text8\")\n",
    "wv = Word2Vec(dataset)"
   ]
  },
  {
   "cell_type": "code",
   "execution_count": 5,
   "id": "75813344",
   "metadata": {},
   "outputs": [],
   "source": [
    "#Cosine computation\n",
    "import scipy as sp\n",
    "from scipy.spatial import distance"
   ]
  },
  {
   "cell_type": "code",
   "execution_count": 6,
   "id": "0f90cdd8",
   "metadata": {},
   "outputs": [],
   "source": [
    "#Creating useful functions/classes\n",
    "\n",
    "def clean_synonyms(synsets):\n",
    "    cleaned_synonyms = []\n",
    "    no_stop_words = []\n",
    "    syn_in_wv = []\n",
    "\n",
    "    \n",
    "    sep = '.'\n",
    "    for s in synsets:\n",
    "        synonym = s.name()\n",
    "        cleaned_synonyms.append(synonym.split(sep, 1)[0])\n",
    "    \n",
    "    for word in cleaned_synonyms:\n",
    "        if word not in stop_words:\n",
    "            no_stop_words.append(word)\n",
    "        if word in wv.wv.index_to_key:\n",
    "            syn_in_wv.append(word)\n",
    "    \n",
    "    return syn_in_wv\n",
    "\n",
    "class Sentence:\n",
    "    \n",
    "    def __init__(self, text = ''):\n",
    "        self.text = text\n",
    "        \n",
    "        doc = trf(text)\n",
    "        target = []\n",
    "        context = []\n",
    "                \n",
    "        for token in doc:\n",
    "            if token.pos_ == 'VERB':\n",
    "                target.append(token.text)\n",
    "            else:\n",
    "                if token.text.isalpha() == True:\n",
    "                    context.append(token.text)\n",
    "                else:\n",
    "                    pass\n",
    "        \n",
    "        self.target = target\n",
    "        self.context = context"
   ]
  },
  {
   "cell_type": "code",
   "execution_count": 7,
   "id": "25073519",
   "metadata": {},
   "outputs": [],
   "source": [
    "def metaphor_checker(sentence):\n",
    "    \n",
    "    synonyms = []\n",
    "    syn_vec = []\n",
    "    context_vec = []\n",
    "    comparison = []\n",
    "    \n",
    "    target = Sentence(sentence).target\n",
    "    context = Sentence(sentence).context\n",
    "    \n",
    "    direct_syn = wn.synsets(target[0], pos = 'v')\n",
    " \n",
    "    for syn in direct_syn:\n",
    "        lemmas = syn.lemmas()\n",
    "        for l in lemmas:\n",
    "            hyponyms = l.synset().hyponyms() # hyponym: \"a word whose meaning is included in that of another word\"\n",
    "            if len(hyponyms) > 0:\n",
    "                for h in hyponyms:\n",
    "                    if h in synonyms:\n",
    "                        pass\n",
    "                    else:\n",
    "                        synonyms.append(h)\n",
    "    \n",
    "    if len(synonyms) > 0:\n",
    "        cleaned_synonyms = clean_synonyms(synonyms)\n",
    "            \n",
    "        for s in cleaned_synonyms:\n",
    "            vec = wv.wv[s]\n",
    "            syn_vec.append(vec)\n",
    "    \n",
    "        for word in context:\n",
    "            if word not in stop_words:\n",
    "                context_vec.append(wv.wv[word])\n",
    "            else:\n",
    "                pass\n",
    "        \n",
    "        context_mean = np.mean(context_vec, axis = 0)\n",
    "    \n",
    "        for vec in syn_vec:\n",
    "            comparison.append(distance.cosine(context_mean, vec))\n",
    "        \n",
    "        comparison_array = np.array(comparison)\n",
    "        \n",
    "        best_fit = cleaned_synonyms[comparison.index(np.amax(comparison_array))] \n",
    "    \n",
    "        best_fit_word = synonyms[comparison.index(np.amax(comparison_array))] #Identifying best fit word\n",
    "    else:\n",
    "        best_fit = target\n",
    "    \n",
    "    cosine = distance.cosine(wv.wv[best_fit], wv.wv[target])\n",
    "    \n",
    "    if cosine > 0.90:\n",
    "        return sentence, target, 'LITERAL', cosine, best_fit\n",
    "    else:\n",
    "        return sentence, target, 'METAPHORICAL', cosine, best_fit"
   ]
  },
  {
   "cell_type": "code",
   "execution_count": 8,
   "id": "cc1c6dfc",
   "metadata": {},
   "outputs": [
    {
     "name": "stderr",
     "output_type": "stream",
     "text": [
      "/usr/local/Caskroom/miniforge/base/envs/openai/lib/python3.8/site-packages/torch/amp/autocast_mode.py:198: UserWarning: User provided device_type of 'cuda', but CUDA is not available. Disabling\n",
      "  warnings.warn('User provided device_type of \\'cuda\\', but CUDA is not available. Disabling')\n"
     ]
    },
    {
     "data": {
      "text/plain": [
       "('she read the newest book from her favorite young adult author.',\n",
       " ['read'],\n",
       " 'LITERAL',\n",
       " 1.0915144681930542,\n",
       " 'strike')"
      ]
     },
     "execution_count": 8,
     "metadata": {},
     "output_type": "execute_result"
    }
   ],
   "source": [
    "metaphor_checker('she read the newest book from her favorite young adult author.') ##Problem appears to be occuring w/identifying best fit word"
   ]
  },
  {
   "cell_type": "code",
   "execution_count": 9,
   "id": "b87b2522",
   "metadata": {},
   "outputs": [
    {
     "data": {
      "text/plain": [
       "('she devoured the newest book from her favorite young adult author.',\n",
       " ['devoured'],\n",
       " 'METAPHORICAL',\n",
       " 0,\n",
       " ['devoured'])"
      ]
     },
     "execution_count": 9,
     "metadata": {},
     "output_type": "execute_result"
    }
   ],
   "source": [
    "metaphor_checker('she devoured the newest book from her favorite young adult author.')"
   ]
  },
  {
   "cell_type": "code",
   "execution_count": 10,
   "id": "dd1f571d",
   "metadata": {},
   "outputs": [
    {
     "data": {
      "text/plain": [
       "('she devours the magazines from the old corner store.',\n",
       " ['devours'],\n",
       " 'METAPHORICAL',\n",
       " 0,\n",
       " ['devours'])"
      ]
     },
     "execution_count": 10,
     "metadata": {},
     "output_type": "execute_result"
    }
   ],
   "source": [
    "metaphor_checker('she devours the magazines from the old corner store.')"
   ]
  },
  {
   "cell_type": "code",
   "execution_count": null,
   "id": "bc789d9d",
   "metadata": {},
   "outputs": [],
   "source": []
  },
  {
   "cell_type": "code",
   "execution_count": null,
   "id": "cc773ae1",
   "metadata": {},
   "outputs": [],
   "source": []
  },
  {
   "cell_type": "code",
   "execution_count": null,
   "id": "9b689cd7",
   "metadata": {},
   "outputs": [],
   "source": []
  }
 ],
 "metadata": {
  "kernelspec": {
   "display_name": "Python [conda env:openai] *",
   "language": "python",
   "name": "conda-env-openai-py"
  },
  "language_info": {
   "codemirror_mode": {
    "name": "ipython",
    "version": 3
   },
   "file_extension": ".py",
   "mimetype": "text/x-python",
   "name": "python",
   "nbconvert_exporter": "python",
   "pygments_lexer": "ipython3",
   "version": "3.8.13"
  }
 },
 "nbformat": 4,
 "nbformat_minor": 5
}
