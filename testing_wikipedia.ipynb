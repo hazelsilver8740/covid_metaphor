{
 "cells": [
  {
   "cell_type": "code",
   "execution_count": 1,
   "id": "70c21f57",
   "metadata": {},
   "outputs": [],
   "source": [
    "#Data manipulation\n",
    "import pandas as pd\n",
    "import numpy as np\n",
    "import string"
   ]
  },
  {
   "cell_type": "code",
   "execution_count": 2,
   "id": "97a70e1b",
   "metadata": {},
   "outputs": [],
   "source": [
    "#NLP nltk\n",
    "import nltk\n",
    "from nltk.corpus import wordnet as wn\n",
    "from nltk.corpus import stopwords\n",
    "stop_words = list(stopwords.words(\"english\"))"
   ]
  },
  {
   "cell_type": "code",
   "execution_count": 3,
   "id": "c40478a6",
   "metadata": {},
   "outputs": [],
   "source": [
    "#NLP spaCy\n",
    "import spacy\n",
    "trf = spacy.load('en_core_web_trf')\n",
    "lg = spacy.load('en_core_web_lg')"
   ]
  },
  {
   "cell_type": "code",
   "execution_count": 4,
   "id": "1358496c",
   "metadata": {},
   "outputs": [],
   "source": [
    "#NLP word embeddings\n",
    "import gensim\n",
    "from gensim.test.utils import datapath\n",
    "from gensim import utils\n",
    "import gensim.models\n",
    "from gensim.models import Word2Vec\n",
    "\n",
    "import gensim.downloader as api\n",
    "dataset = api.load(\"text8\")\n",
    "wv = Word2Vec(dataset)"
   ]
  },
  {
   "cell_type": "code",
   "execution_count": 5,
   "id": "75813344",
   "metadata": {},
   "outputs": [],
   "source": [
    "#Cosine computation\n",
    "import scipy as sp\n",
    "from scipy.spatial import distance"
   ]
  },
  {
   "cell_type": "code",
   "execution_count": 6,
   "id": "0f90cdd8",
   "metadata": {},
   "outputs": [],
   "source": [
    "#Creating useful functions/classes\n",
    "\n",
    "def clean_synonyms(synsets):\n",
    "    cleaned_synonyms = []\n",
    "    no_stop_words = []\n",
    "    syn_in_wv = []\n",
    "\n",
    "    \n",
    "    sep = '.'\n",
    "    for s in synsets:\n",
    "        synonym = s.name()\n",
    "        cleaned_synonyms.append(synonym.split(sep, 1)[0])\n",
    "    \n",
    "    for word in cleaned_synonyms:\n",
    "        if word not in stop_words:\n",
    "            no_stop_words.append(word)\n",
    "        if word in wv.wv.index_to_key:\n",
    "            syn_in_wv.append(word)\n",
    "    \n",
    "    return syn_in_wv\n",
    "\n",
    "class Sentence:\n",
    "    \n",
    "    def __init__(self, text = ''):\n",
    "        self.text = text\n",
    "        \n",
    "        doc = trf(text)\n",
    "        target = []\n",
    "        context = []\n",
    "                \n",
    "        for token in doc:\n",
    "            if token.pos_ == 'VERB':\n",
    "                target.append(token.text)\n",
    "            else:\n",
    "                if token.text.isalpha() == True:\n",
    "                    context.append(token.text)\n",
    "                else:\n",
    "                    pass\n",
    "        \n",
    "        self.target = target\n",
    "        self.context = context"
   ]
  },
  {
   "cell_type": "code",
   "execution_count": 18,
   "id": "25073519",
   "metadata": {},
   "outputs": [],
   "source": [
    "def metaphor_checker(sentence):\n",
    "    \n",
    "    synonyms = []\n",
    "    syn_vec = []\n",
    "    context_vec = []\n",
    "    comparison = []\n",
    "    \n",
    "    target = Sentence(sentence).target\n",
    "    context = Sentence(sentence).context\n",
    "    \n",
    "    direct_syn = wn.synsets(target[0], pos = 'v')\n",
    " \n",
    "    for syn in direct_syn:\n",
    "        lemmas = syn.lemmas()\n",
    "        for l in lemmas:\n",
    "            hyponyms = l.synset().hyponyms()\n",
    "            if len(hyponyms) > 0:\n",
    "                for h in hyponyms:\n",
    "                    if h in synonyms:\n",
    "                        pass\n",
    "                    else:\n",
    "                        synonyms.append(h)\n",
    "    \n",
    "    if len(synonyms) > 0:\n",
    "        cleaned_synonyms = clean_synonyms(synonyms)\n",
    "            \n",
    "        for s in cleaned_synonyms:\n",
    "            vec = wv.wv[s]\n",
    "            syn_vec.append(vec)\n",
    "    \n",
    "        for word in context:\n",
    "            if word not in stop_words:\n",
    "                context_vec.append(wv.wv[word])\n",
    "            else:\n",
    "                pass\n",
    "        \n",
    "        context_mean = np.mean(context_vec, axis = 0)\n",
    "    \n",
    "        for vec in syn_vec:\n",
    "            comparison.append(distance.cosine(context_mean, vec))\n",
    "        \n",
    "        comparison_array = np.array(comparison)\n",
    "        \n",
    "        best_fit = cleaned_synonyms[comparison.index(np.amax(comparison_array))] \n",
    "    \n",
    "        best_fit_word = synonyms[comparison.index(np.amax(comparison_array))] #Identifying best fit word\n",
    "    else:\n",
    "        best_fit = target\n",
    "    \n",
    "    cosine = distance.cosine(wv.wv[best_fit], wv.wv[target])\n",
    "    \n",
    "    if cosine > 0.90:\n",
    "        return sentence, target, 'LITERAL', cosine, best_fit\n",
    "    else:\n",
    "        return sentence, target, 'METAPHORICAL', cosine, best_fit"
   ]
  },
  {
   "cell_type": "code",
   "execution_count": 19,
   "id": "cc1c6dfc",
   "metadata": {},
   "outputs": [
    {
     "data": {
      "text/plain": [
       "('she read the newest book from her favorite young adult author.',\n",
       " ['read'],\n",
       " 'LITERAL',\n",
       " 1.026896383613348,\n",
       " 'audit')"
      ]
     },
     "execution_count": 19,
     "metadata": {},
     "output_type": "execute_result"
    }
   ],
   "source": [
    "metaphor_checker('she read the newest book from her favorite young adult author.') ##Problem appears to be occuring w/identifying best fit word"
   ]
  },
  {
   "cell_type": "code",
   "execution_count": 20,
   "id": "0db717f6",
   "metadata": {},
   "outputs": [
    {
     "data": {
      "text/plain": [
       "('she devoured the newest book from her favorite young adult author.',\n",
       " ['devoured'],\n",
       " 'METAPHORICAL',\n",
       " 0,\n",
       " ['devoured'])"
      ]
     },
     "execution_count": 20,
     "metadata": {},
     "output_type": "execute_result"
    }
   ],
   "source": [
    "metaphor_checker('she devoured the newest book from her favorite young adult author.')"
   ]
  },
  {
   "cell_type": "code",
   "execution_count": 21,
   "id": "dd1f571d",
   "metadata": {},
   "outputs": [
    {
     "data": {
      "text/plain": [
       "('she devours the magazines from the old corner store.',\n",
       " ['devours'],\n",
       " 'METAPHORICAL',\n",
       " 0,\n",
       " ['devours'])"
      ]
     },
     "execution_count": 21,
     "metadata": {},
     "output_type": "execute_result"
    }
   ],
   "source": [
    "metaphor_checker('she devours the magazines from the old corner store.')"
   ]
  },
  {
   "cell_type": "code",
   "execution_count": null,
   "id": "253a7484",
   "metadata": {},
   "outputs": [],
   "source": []
  },
  {
   "cell_type": "code",
   "execution_count": null,
   "id": "0a5133aa",
   "metadata": {},
   "outputs": [],
   "source": []
  },
  {
   "cell_type": "code",
   "execution_count": null,
   "id": "a0a6a141",
   "metadata": {},
   "outputs": [],
   "source": []
  },
  {
   "cell_type": "code",
   "execution_count": 59,
   "id": "3a123b67",
   "metadata": {},
   "outputs": [],
   "source": [
    "read_syn = wn.synsets('read')\n",
    "# troponym: \"A verb that indicates more precisely the manner of doing \n",
    "#something by replacing a verb of a more generalized meaning\"\n",
    "\n",
    "#WordNet useful: http://www.irinaciocan.ro/proces_lbnat/wordnet.php\n",
    "\n",
    "# hyponym: \"a word whose meaning is included in that of another word\" << no hyponyms available in WordNet (get troponyms only)\n",
    "\n",
    "# tl;dr: getting WordNet troponyms\n",
    "\n",
    "candidate_syn = []\n",
    "\n",
    "for syn in read_syn:\n",
    "    if syn.pos() == 'v':\n",
    "        lemmas = syn.lemmas()\n",
    "        for l in lemmas:\n",
    "            hyponyms = l.synset().hyponyms()\n",
    "            if len(hyponyms) > 0:\n",
    "                for h in hyponyms:\n",
    "                    if h in candidate_syn:\n",
    "                        pass\n",
    "                    else:\n",
    "                        candidate_syn.append(h)"
   ]
  }
 ],
 "metadata": {
  "kernelspec": {
   "display_name": "Python [conda env:openai] *",
   "language": "python",
   "name": "conda-env-openai-py"
  },
  "language_info": {
   "codemirror_mode": {
    "name": "ipython",
    "version": 3
   },
   "file_extension": ".py",
   "mimetype": "text/x-python",
   "name": "python",
   "nbconvert_exporter": "python",
   "pygments_lexer": "ipython3",
   "version": "3.8.13"
  }
 },
 "nbformat": 4,
 "nbformat_minor": 5
}
