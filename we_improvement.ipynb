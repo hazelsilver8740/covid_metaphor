{
 "cells": [
  {
   "cell_type": "code",
   "execution_count": 1,
   "id": "d63d4b2a",
   "metadata": {},
   "outputs": [],
   "source": [
    "#Data manipulation\n",
    "import pandas as pd\n",
    "import numpy as np\n",
    "import string\n",
    "import regex as re\n",
    "\n",
    "#NLP NLTK\n",
    "import nltk\n",
    "from nltk.corpus import wordnet as wn\n",
    "from nltk.corpus import stopwords\n",
    "stop_words = list(stopwords.words(\"english\"))\n",
    "\n",
    "#NLP spaCy model\n",
    "import spacy\n",
    "from spacy.tokenizer import Tokenizer\n",
    "\n",
    "trf = spacy.load('en_core_web_trf')\n",
    "trf.tokenizer = Tokenizer(trf.vocab)\n",
    "\n",
    "\n",
    "lg = spacy.load('en_core_web_lg')\n",
    "lg.tokenizer = Tokenizer(lg.vocab)\n",
    "\n",
    "from spacy import displacy\n",
    "\n",
    "# NLP spaCy Matcher\n",
    "from spacy.matcher import Matcher\n",
    "from spacy.matcher import PhraseMatcher\n",
    "\n",
    "matcher = Matcher(lg.vocab)\n",
    "pmatcher = PhraseMatcher(lg.vocab)\n",
    "\n",
    "#NLP word embeddings\n",
    "import gensim\n",
    "from gensim.test.utils import datapath\n",
    "from gensim import utils\n",
    "import gensim.models\n",
    "\n",
    "import gensim.downloader as api\n",
    "wv = api.load('word2vec-google-news-300')\n",
    "\n",
    "# NLP Lemminflect \n",
    "import lemminflect\n",
    "from lemminflect import getLemma\n",
    "\n",
    "getLemma('screamed', upos = 'VERB')\n",
    "\n",
    "# NLP Contractions\n",
    "import contractions"
   ]
  },
  {
   "cell_type": "markdown",
   "id": "74e47d81",
   "metadata": {},
   "source": [
    "# Motivation for the following work\n",
    "## Identifying ambiguous cases\n"
   ]
  },
  {
   "cell_type": "code",
   "execution_count": 67,
   "id": "3898d8eb",
   "metadata": {},
   "outputs": [],
   "source": [
    "#Creating patterns\n",
    "\n",
    "keys = [] #list of dicts\n",
    "\n",
    "for pw in cleaned_pw:\n",
    "    pattern_key = []\n",
    "    pw = pw.split(' ')\n",
    "    for w in pw:\n",
    "        if w.isalpha() == True:\n",
    "            pattern_key.append(w)\n",
    "        else:\n",
    "            wlist = w.split('-')\n",
    "            for l in wlist:\n",
    "                if l.isalpha() == True:\n",
    "                    pattern_key.append({'LOWER': l})\n",
    "                else:\n",
    "                    pattern_key.append({'IS_PUNCT': True, 'OP':'*'})\n",
    "    keys.append(pattern_key)"
   ]
  },
  {
   "cell_type": "code",
   "execution_count": 68,
   "id": "18f07e8a",
   "metadata": {},
   "outputs": [],
   "source": [
    "path = '/Users/daisyliu/Desktop/Research/UTEA_covid19_metaphors/notebooks/sample_training.txt'\n",
    "\n",
    "with open(path) as f:\n",
    "    doc = lg(f.read()) #passing entire text string of file into document\n",
    "\n",
    "list_docs = []\n",
    "\n",
    "for i in range(0, len(cleaned_pw)):\n",
    "    pw = cleaned_pw[i]\n",
    "    doc1 = lg(pw)\n",
    "    list_docs.append(doc1)\n",
    "\n",
    "pmatcher.add('ProblemWords', list_docs)\n",
    "found_matches = pmatcher(doc)"
   ]
  },
  {
   "cell_type": "code",
   "execution_count": 69,
   "id": "8d1e6ef3",
   "metadata": {
    "scrolled": true
   },
   "outputs": [
    {
     "name": "stdout",
     "output_type": "stream",
     "text": [
      "3051766393194772593 ProblemWords 2014 2016 \n",
      "He along with his team \"Prashamsa\" won \"Bale Telipale\" stand up comedy contest show in Namma TV for three consecutive years\n",
      "3051766393194772593 ProblemWords 7386 7388 amusement park's ghost train.\n",
      "The first printing press was set up as early as in 1674 in Mumbai (Bombay).\n",
      "The\n",
      "3051766393194772593 ProblemWords 7739 7741 a faculty from the local diocese.\n",
      "The musical is set in the magical town of Greenwillow.\n",
      "The neo-classical-style building was\n"
     ]
    }
   ],
   "source": [
    "for match_id, start, end in found_matches:\n",
    "    string_id = lg.vocab.strings[match_id]\n",
    "    span = doc[start-10:end+10]\n",
    "    print(match_id, string_id, start, end, span.text)"
   ]
  },
  {
   "cell_type": "code",
   "execution_count": 70,
   "id": "8b26a52a",
   "metadata": {},
   "outputs": [],
   "source": [
    "with open(path) as f:\n",
    "    sample = f.read()\n",
    "    sample = sample.replace(\"\\'\", '').replace('\\n', ' ')"
   ]
  },
  {
   "cell_type": "code",
   "execution_count": 71,
   "id": "400b2664",
   "metadata": {},
   "outputs": [
    {
     "name": "stdout",
     "output_type": "stream",
     "text": [
      "stand up stand_up\n",
      "set up set_up\n",
      "set in set_in\n"
     ]
    }
   ],
   "source": [
    "replace_word = []\n",
    "replace_key = []\n",
    "\n",
    "for match_id, start, end in found_matches:\n",
    "    string_id = lg.vocab.strings[match_id]\n",
    "    span = doc[start:end]\n",
    "    replace_word.append(span.text)\n",
    "    replace_key.append(problem_words[cleaned_pw.index(span.text)])\n",
    "    \n",
    "#Differentiating between nightmarish use cases: movie SET in X, anxiety SET IN\n",
    "\n",
    "for i in range(0, len(replace_word)):\n",
    "    sample1 = sample.replace(replace_word[i], replace_key[i])\n",
    "    print(replace_word[i], replace_key[i])"
   ]
  },
  {
   "cell_type": "code",
   "execution_count": 72,
   "id": "d891bee4",
   "metadata": {},
   "outputs": [
    {
     "data": {
      "text/plain": [
       "'set_in the magic'"
      ]
     },
     "execution_count": 72,
     "metadata": {},
     "output_type": "execute_result"
    }
   ],
   "source": [
    "# full sentence: The musical is set in the magical town of Greenwillow.\n",
    "\n",
    "sample1[44814:44830] # now trying to disambiguate between \"set in\" and \"set\" in!"
   ]
  },
  {
   "cell_type": "code",
   "execution_count": 4,
   "id": "05b58b64",
   "metadata": {},
   "outputs": [
    {
     "name": "stdout",
     "output_type": "stream",
     "text": [
      "1363\n",
      "['attach_to', 'play_along', 'carry_through', 'roll_up', 'breeze_through', 'air_out', 'air-condition', 'air-cool', 'put_on', 'lend_oneself', 'border_on', 'set_about', 'wake_up', 'give_voice', 'draw_a_bead_on', 'fall_upon', 'bet_on', 'sleep_together', 'free-base', 'give_birth', 'have_a_bun_in_the_oven', 'go_to_bed', 'get_down', 'belt_out', 'tie_down', 'blaze_away', 'shove_off', 'blow_out', 'film_over', 'trouble_oneself', 'break_in', 'break_dance', 'build_up', 'strong-arm', 'burn_off', 'trip_up', 'focus_on', 'cheat_on', 'care_for', 'go_around', 'clear_up', 'clear-cut', 'close_up', 'issue_forth', 'feel_for', 'boil_down', 'band_together', 'get_in_touch', 'plug_in', 'put_up', 'copper-bottom', 'break_through', 'crack_up', 'barge_in', 'break_down', 'bring_around', 'curl_up', 'write_out', 'switch_off', 'cut_off', 'cut_out', 'scratch_out', 'cut_down', 'make_bold', 'go_steady', 'de-iodinate', 'french-fry', 'get_the_better_of', 'change_shape', 'take_down', 'press_down', 'lay_waste_to', 'break_up', 'double_over', 'double-space', 'toss_off', 'pull_back', 'drip-dry', 'drink_in', 'come_forth', 'blow_up', 'get_off', 'lay_down', 'think_of', 'switch_over', 'run_down', 'run_out', 'press_out', 'snuff_out', 'stub_out', \"talk_through_one's_hat\", 'fill_up', 'finish_up', 'eat_up', 'open_fire', 'pay_back', 'ease_up', 'flare_out', 'pen_up', 'take_after', 'keep_up', 'stick_to', 'horse_around', 'line_up', 'find_oneself', 'freeze-dry', 'eat_into', 'move_over', 'run_low', 'think_up', 'travel_rapidly', 'follow_through', 'matter_to', 'intrude_on', 'turn_back', 'chew_the_fat', 'call_on_the_carpet', 'stick_out', 'knock_cold', 'keep_open', 'stamp_out', 'lie_down', 'face-lift', 'light_up', 'fall_back', 'turn_down', 'cross_off', 'mass-produce', 'take_care', 'grind_to_a_halt', 'tone_down', 'hop_on', 'be_active', 'chew_over', 'pin_down', 'penny-pinch', 'nickel-and-dime', 'operate_on', 'come_out_of_the_closet', 'bear_down', 'bubble_over', 'look_out_on', 'tamp_down', 'pay_up', 'travel_by', 'top_out', 'peel_off', 'crop_up', 'weight-lift', 'quest_for', 'quick-freeze', 'leave_office', 'drop_out', 'single-foot', 'foray_into', 'beat_up', 'call_up', 'ramble_on', 're-create', 'pick_up', 'cross-file', 'rule_out', 'let_go_of', 'take_over', 'get_rid_of', 'take_out', 'make_noise', 'come_to', 'put_out', 'shrink_back', 'draw_in', 'hark_back', 'come_back', 'change_by_reversal', 'get_up', 'roll_out', 'chat_up', 'turn_out', 'rough_in', 'round_off', 'rout_out', 'set_up', 'short-change', 'short-circuit', 'lock_in', 'spill_the_beans', 'drop_the_ball', 'sit_down', 'baby-sit', 'skim_over', 'bang_up', 'snow-blind', 'hang_glide', 'sober_up', 'spread-eagle', 'spruce_up', 'stand_by', 'hold_on', 'come_on', 'well_up', 'tip_off', 'toilet-train', 'tongue-tie', 'try_on', 'change_state', 'call_on', 'two-time', 'dress_down', 'pine_away', 'water-wash', 'de-escalate', 'bow_out', 'bust_up', 'give_way', 'run_off', 'fall_through', 'about-face', 'still-hunt', 'bar_mitzvah', 'bat_mitzvah', 'belly_dance', 'belong_to', 'black_marketeer', 'shed_blood', 'blurt_out', 'bog_down', 'hee-haw', 'bunch_together', 'butt-weld', 'carpet_bomb', 'center_punch', 'cha-cha', 'drive_around', 'cling_to', 'co-star', 'court-martial', 'crash_land', 'cross-index', 'cross-link', 'deep_freeze', 'hold_forth', 'dive-bomb', 'disk-jockey', 'double_crochet', 'double_cross', 'drop-kick', 'dry_clean', 'dry-dock', 'e-mail', 'run_into', 'fee-tail', 'set_forth', 'ferret_out', 'figure_skate', 'finger-paint', 'taper_off', 'fly-fish', 'flim-flam', 'folk_dance', 'force_out', 'freak_out', 'goose_step', 'dish_the_dirt', 'snap_up', 'clear_the_throat', 'help_oneself', 'ice_skate', 'lead_up', 'slip_in', 'square_up', 'jot_down', 'leap_out', 'kick_back', 'kick_up', 'pull_the_leg_of', 'kit_out', 'letter_bomb', 'machine_gun', 'wipe_up', 'get_through', 'nail_down', 'nolle_pros', 'atom-bomb', 'one-step', 'beat_around_the_bush', 'pick_at', 'perk_up', 'place-kick', 'prick_up', 'prop_up', 'purl_stitch', 'lean_back', 'get_worse', 'hand_over', 'play_back', 'buy_back', 'sum_up', 'rev_up', 'depend_on', 'roller_skate', 'rough-hew', 'scotch_tape', 'grope_for', 'teeter-totter', 'shell_stitch', 'silt_up', 'single_crochet', 'ski_jump', 'skin-dive', 'skinny-dip', 'sky_dive', 'slam_dance', 'take_a_hit', 'speed_skate', 'spring-clean', 'square_dance', 'last_out', 'strip_mine', 'tap_dance', 'tape_record', 'test_drive', 'tramp_down', 'triple-space', 'catch_on', 'swing_around', 'turn_around', 'fine-tune', 'two-step', 'travel_to', 'water_ski', 'white-out', 'let_out', 'cull_out', 'write_up', 'x-ray', 'zip_up', 'abound_in', 'account_for', 'acid-wash', 'act_as', 'act_involuntarily', 'act_on', 'act_out', 'lord_it_over', 'act_up', 'add_on', 'add_to', 'make_sense', 'air-drop', 'air-ship', 'air-slake', 'give_up', 'ally_with', 'angle-park', 'ask_for_it', 'ask_out', 'assert_oneself', 'inhere_in', 'attend_to', 'keep_off', 'back_up', 'chicken_out', 'back_out', 'bail_out', 'band_oneself', 'bandy_about', 'bang_out', 'pub-crawl', 'beat_down', 'chime_in', 'barrage_jam', 'barter_away', 'take_pains', 'be_born', 'be_due', 'be_full', 'get_on', 'know_the_score', 'be_well', 'take_away', 'drag_down', 'bear_down_on', 'bear_up', 'beat_a_retreat', 'cast_about', 'hammer_in', 'beat_out', 'bed-hop', 'bed_down', 'believe_in', 'bell_the_cat', 'belly-flop', 'belly-land', 'fall_over_backwards', 'get_cracking', 'betake_oneself', 'tie_up', 'bind_over', 'snap_at', 'bite_out', 'black_out', 'zonk_out', 'blank_out', 'blanket_jam', 'blare_out', 'blast_off', 'blend_in', 'shut_off', 'block_out', 'blow-dry', \"flip_one's_lid\", 'blow_off', 'board_up', 'boat-race', 'bob_around', 'bob_under', 'body-surf', 'body_guard', 'boil_over', 'garbage_down', 'bomb_out', 'bomb_up', 'book_up', 'boost_up', 'bottom_out', 'get_well', 'bounce_out', 'box_in', 'steel_oneself_against', 'break_bread', 'break_even', 'break_into', 'cut_short', 'break_open', 'break_out', \"break_someone's_heart\", 'break_with', 'brick_in', 'tide_over', 'bristle_at', 'bring_about', 'bring_round', 'bring_to', 'bring_down', 'bring_home', 'take_home', 'bring_in', 'pull_off', 'bring_on', 'bring_oneself', 'bring_out', 'bring_to_bear', 'bring_up', 'butter_up', 'tell_off', 'brush_on', 'bubble_up', 'take_heart', 'budget_for', 'build_in', 'repose_on', 'bullet_vote', 'face_off', 'bump_up', 'bundle_off', 'bundle_up', 'bunk_off', 'burn_down', 'burst_in_on', 'burst_out', 'pop_out', 'bush_out', 'buy_into', 'buy_it', 'buy_off', 'buy_time', 'by-bid', 'call_at', 'call_back', 'call_in', 'call_it_quits', \"call_one's_bluff\", 'call_out', 'call_the_shots', 'call_to_order', 'cancel_out', 'cap_off', 'care_a_hang', 'face_the_music', 'carry_back', 'carry_over', 'carry_to_term', 'carry_weight', 'cart_off', 'carve_out', 'cash_in_on', 'cash_out', 'cast_off', 'cast_on', 'catch_sight', 'catch_cold', 'catch_it', 'find_out', 'catch_up', 'make_up', 'cause_to_be_perceived', 'cause_to_sleep', 'cell_phone', 'center_on', 'chain-smoke', 'chain_up', 'chalk_up', 'change_hands', 'change_integrity', 'change_intensity', 'change_magnitude', 'change_posture', 'change_surface', 'change_taste', 'chase_away', 'check_in', 'check_out', 'chicken-fight', 'child-proof', 'chip_away', 'choke_off', 'choose_up', 'chop_down', 'churn_out', 'revolve_around', 'clamp_down', 'slap_on', 'clap_up', 'clean_out', 'clean_up', 'clear_off', 'clear_out', 'clear_the_air', 'click_off', 'click_open', 'clock_in', 'clock_out', 'log_up', 'close_in', 'close_out', 'cloud_over', 'clue_in', 'co-author', 'co-educate', 'collocate_with', 'co-opt', 'co-sign', 'co-vary', 'cobble_together', 'cold-cream', 'weed_out', 'come_across', 'come_round', 'come_around', 'come_away', 'drop_by', 'come_by', 'come_close', 'come_down', 'come_to_the_fore', 'come_in', 'come_in_for', 'come_in_handy', 'come_to_life', 'come_near', 'come_of_age', 'go_off', 'go_on', 'come_out', 'fall_short', 'come_to_grips', 'come_to_light', 'come_to_mind', 'come_up', 'enter_upon', 'commit_suicide', 'comparison-shop', 'trump_up', 'conform_to', 'poop_out', 'connive_at', 'contract_in', 'contract_out', 'cool_off', \"kick_one's_heels\", 'coop_up', 'opt_out', 'copy_out', 'rope_in', 'cozy_up', 'cough_up', 'count_down', 'count_off', 'count_out', 'counter-drill', 'curry_favor', 'cover_for', 'grind_out', 'crap_up', 'crash-dive', 'cream_off', 'create_by_mental_act', 'create_from_raw_material', 'create_verbally', 'sneak_in', 'creep_up', 'cross-check', 'cross-dress', 'cross-fertilize', 'cross-refer', 'cross_examine', 'cross_oneself', 'cry_out_for', 'curtain_off', 'custom-make', 'cut_across', 'cut_away', 'cut_back', 'cut_corners', 'cut_in', 'cut_to', 'cut_to_ribbons', 'cycle_on', 'daisy-chain', 'dash_down', 'dash_off', 'go_back', 'de-access', 'de-emphasize', 'de-energize', 'de-ionate', 'deep-dye', 'deep-fat-fry', 'deep-six', 'descant_on', 'die_back', 'die_down', 'die_out', 'pitch_in', 'dig_out', 'eat_in', 'eat_out', 'dip_into', 'dip_solder', 'disagree_with', 'hash_out', 'dispense_with', 'dispose_of', 'do_a_job_on', 'do_justice', 'go_all_out', 'wash_up', 'do_the_honors', 'do_up', 'doll_up', 'do_well', 'do_well_by', 'fall_asleep', 'double-check', 'double-date', 'double-glaze', 'double-park', 'double-team', 'double_bogey', 'double_dye', 'double_tongue', 'double_up', 'drag_on', 'drag_up', 'drain_the_cup', 'draw_the_line', 'draw_away', 'draw_off', 'draw_close', 'pull_in', 'suck_in', 'draw_out', 'draw_up', 'dress_ship', 'dress_up', 'drift_apart', 'drive_home', 'drive_in', 'drive_up', 'drool_over', 'drop_back', 'drop_like_flies', 'drop_off', \"drop_one's_serve\", 'drop_open', 'drown_out', 'dry-nurse', 'dry-rot', 'dry-wall', 'run_dry', 'dwell_on', 'land_up', 'listen_in', 'edge_in', 'flow_out', 'eke_out', 'shine_at', 'explode_a_bombshell', 'express-mail', 'express_emotion', 'extend_oneself', 'face-harden', 'factor_analyse', 'fall_all_over', 'fall_apart', 'fall_off', 'fall_for', 'fall_from_grace', 'fall_in', 'fall_in_line', 'fall_in_love', 'fall_into', 'fall_out', 'fall_over', 'fall_short_of', 'hire_out', 'fast_dye', 'take_up', \"feast_one's_eyes\", \"feather_one's_nest\", 'feed_back', 'feed_on', 'feel_like', 'feel_like_a_million', 'make_a_clean_breast_of', 'field-test', 'fight_back', 'file_in', 'file_out', 'fill_in', 'round_out', 'fit_the_bill', 'film-make', 'firm_up', 'fix_up', 'flag_down', 'flare_up', 'flood_in', 'flow_away', 'fluff_up', 'wash_down', 'fly_blind', 'fly_by', 'zip_by', 'fly_contact', 'fly_high', 'fly_in_the_face_of', 'fly_on', 'fly_open', 'foam_at_the_mouth', 'foist_off', 'fog_up', 'follow_suit', 'follow_up', 'play_around', 'force-feed', 'force-land', 'foul_out', 'free-associate', 'ice_up', 'frown_on', 'fudge_together', 'fund-raise', 'gang-rape', 'gas_up', 'take_in', 'take_a_look', 'get_a_noseful', 'get_around', 'get_across', 'get_along_with', 'get_around_to', 'get_at', 'win_back', 'get_even', 'get_by', 'write_down', 'get_in', 'get_into', 'get_it', 'hop_out', 'get_off_the_ground', \"take_one's_lumps\", 'pull_out', 'get_out', 'get_over', 'get_the_best', 'get_the_goods', 'get_the_jump', 'while_away', 'get_to', 'work_up', 'gift-wrap', 'gild_the_lily', 'jazz_up', 'give_and_take', 'give_away', 'give_it_a_whirl', 'have_a_go', 'give_off', 'give_the_axe', 'give_the_eye', 'give_the_glad_eye', 'glide-bomb', 'globe-trot', 'gloss_over', 'go_a_long_way', 'go_ahead', 'go_by', 'go_far', 'go_down', 'go_dutch', 'try_for', 'go_for_broke', 'go_home', 'go_into', 'go_off_half-cocked', 'go_out', 'work_through', 'go_through_the_motions', 'go_to_pot', 'go_to_war', 'go_up', 'gouge_out', 'ground_out', 'grow_up', 'grub_up', 'grunt-hoot', 'gum_up', 'gun_down', 'thrash_out', 'hand-dye', 'hand-pick', 'hand_down', 'handle_with_kid_gloves', 'hang_by_a_thread', 'hang_on', 'hang_out', 'hang_together', 'hang_up', 'hard_surface', 'harsh_on', 'have_a_ball', 'have_down', 'have_it_coming', 'pile_up', 'hear_out', 'heat_up', 'help_out', 'hem_and_haw', 'hem_in', 'high-tail', 'hike_up', 'hit_home', 'hit_the_dirt', 'luck_out', 'hive_off', 'hog-tie', 'hold_down', 'stand_pat', 'hold_off', \"hold_one's_own\", 'hold_out', 'hold_over', 'stand_for', 'hold_sway', 'hold_the_line', 'hold_up', 'stand_up', 'hole_up', 'home-school', 'range_in', 'hook_up', 'soup_up', 'horse-race', 'horse-trade', 'hot-dog', 'hot-wire', 'hot-work', 'hugger_mugger', 'hunker_down', 'hydrogen-bomb', 'hype_up', 'impulse-buy', 'iron_out', 'island_hop', 'join_battle', 'jump_off', 'keel_over', 'keep_away', 'keep_down', 'run_on', 'stand_guard', 'keep_in', 'keep_note', 'stand_back', \"keep_one's_eyes_peeled\", 'keep_quiet', 'plug_away', 'keep_out', 'keep_step', 'keep_tabs_on', 'keep_to_oneself', 'keep_track', 'kick-start', 'kick_around', 'kick_in', 'set_in', 'kill_oneself', 'set_back', 'knock_out', 'lam_into', 'lash_together', 'latch_on', 'laugh_off', 'lay_hands_on', 'lay_out', 'lay_over', 'lay_up', 'lead_off', 'lead_on', 'lean_on', 'leave_behind', 'leave_no_stone_unturned', 'leave_off', 'lust_after', 'leech_onto', 'loose_off', 'let_go', 'let_it_go', 'lie_about', 'lie_awake', 'lie_dormant', 'lie_in', 'lie_low', 'take_off', 'limber_up', \"line_one's_pockets\", 'lip-synch', 'lip_off', 'sell_out', 'live_in', 'live_it_up', 'live_out', 'lock_out', 'lock_up', 'log_in', 'log_out', 'look_after', 'look_around', 'look_away', 'look_back', 'look_down_on', 'look_forward', 'look_like', 'look_out', 'look_to', 'lose_sight_of', 'lose_track', 'luck_it', 'machine_wash', 'mail_out', 'make_a_point', 'raise_hell', 'make_as_if', 'make_good', 'make_hay', 'make_no_bones_about', 'make_out', 'make_peace', 'make_way', 'mark_down', 'mark_off', 'mark_up', 'max_out', 'meet_up_with', 'mound_over', 'move_back_and_forth', 'move_in', 'move_in_on', 'move_involuntarily', 'move_out', 'muscle_into', 'net_fish', 'sniff_out', 'push_out', 'ooze_through', 'open_up', 'originate_in', 'out-herod', 'stare_down', 'second-guess', 'over-correct', 'pass_over', 'pack_on', 'pan-broil', 'pan-fry', 'pan_out', 'pan_roast', 'pant-hoot', 'parallel-park', 'partake_in', 'pass_away', 'pass_off', 'pass_on', 'pass_through', 'pass_up', 'pattern-bomb', 'pay_cash', 'pay_off', 'pension_off', 'phase_in', 'phase_out', 'pick_off', 'sieve_out', 'take_a_dare', 'piece-dye', 'pipe-clay', 'pipe_in', 'pipe_up', 'pistol-whip', 'set_down', 'plonk_down', 'play_it_by_ear', 'play_out', 'play_possum', 'plea-bargain', 'press_on', 'plump_in', 'plump_out', 'point_jam', 'point_the_way', 'point_up', 'poke_into', 'pooh-pooh', 'pop_in', 'pop_off', 'throw_cold_water_on', 'pour_out', 'spill_over', 'power-dive', 'pressure-wash', 'pressure-cook', 'take_pride', 'prove_oneself', 'puff_up', \"pull_one's_weight\", 'pull_out_all_the_stops', 'pull_over', 'pull_the_plug', 'pull_up_short', 'push_aside', 'push_up', 'put_away', 'tuck_in', 'put_in', 'turn_off', 'put_out_feelers', 'put_through', 'put_to_sleep', 'puzzle_over', 'rack_up', 'rain_out', 'raise_the_roof', 'rake_in', 'rake_off', 'rake_up', 'rationalize_away', 'rattle_down', 're-address', 're-afforest', 're-argue', 're-assume', 're-emphasise', 're-enter', 're-equip', 're-examine', 're-explore', 're-incorporate', 'reach_into', \"reach_one's_nostrils\", 'reach_out', 'read_between_the_lines', 'rear-end', 'rear_back', 'red-eye', 'red-ink', 'reel_off', 'take_the_count', 'remember_oneself', 'render-set', 'report_out', 'take_back', 'touch_up', 'ride_off', 'ride_herd', 'ride_horseback', 'ride_roughshod', 'ride_the_bench', 'rig_up', 'ring_out', 'ring_up', 'rip_out', 'roar_off', 'roll_in', 'roll_over', 'rope_up', 'rough-dry', 'rough-house', 'rough-sand', 'rough_up', 'round_up', 'rout_up', 'scrape_along', 'run_away', 'run_bases', 'run_by', 'run_up', 'rush_off', 'send_down', 'sally_forth', 'sand_cast', 'say_farewell', 'scale_down', 'scale_up', 'scoop_out', 'screen_off', 'screw_up', 'size_up', 'see_double', 'see_eye_to_eye', 'see_through', 'seek_out', 'self-destruct', 'sell_off', 'sell_short', 'semi-automatize', 'send_a_message', 'send_around', 'send_in', 'set_ablaze', 'set_off', 'set_to_music', 'shake_hands', 'shoo_off', 'shoot_craps', 'shoot_up', 'shoulder_in', 'shout_down', 'show_the_door', 'shrug_off', 'shy_away_from', 'side-slip', 'sign_away', 'sign_off', 'sign_up', 'sing_along', 'single_out', 'sit_back', 'sit_by', 'sit_in', 'sit_out', 'sit_tight', 'stay_up', 'sit_up', 'skin_over', 'skin_pop', 'skip-bomb', 'skip_town', 'slam-dunk', 'sleep_late', 'sleep_off', 'sleep_over', 'slice_into', 'slip_away', 'slip_off', 'slip_on', 'slough_off', 'stink_up', 'smoke_out', 'snap_back', 'soft-pedal', 'soft-soap', 'soft-solder', 'sound_off', \"sow_one's_oats\", 'speak_for', 'speak_in_tongues', 'speak_of_the_devil', 'speak_up', 'spell_out', 'spin-dry', 'spin_off', 'spirit_away', 'sponge_down', 'sponge_on', 'sponge_up', 'spot-check', 'spot_jam', 'spot_promote', 'spray-dry', 'string_out', 'squeak_by', 'squeeze_for', 'squeeze_out', 'wring_out', 'stage_direct', 'stand_out', 'stand_still', 'stave_in', 'stay_at', 'stay_in_place', 'stick_together', 'steam-heat', 'step_on', 'step_out', 'still-fish', 'stir_fry', 'stoop_to', 'stow_away', 'street-walk', 'strike_a_blow', 'strike_a_chord', 'strike_down', 'strike_dumb', 'strike_out', 'strike_up', 'strip-search', 'swear_in', 'swear_off', 'sweat_off', 'wipe_out', 'sweep_away', 'sweep_under_the_rug', 'switch-hit', 'switch_on', 'tag_along', 'take_a_bow', 'take_a_dive', 'take_a_joke', 'take_hold', 'take_effect', 'take_five', 'take_in_vain', 'take_it_on_the_chin', 'take_kindly_to', 'take_lying_down', 'take_notice', 'take_office', 'take_orders', 'take_the_stage', 'take_ten', 'take_the_bull_by_the_horns', 'take_the_cake', 'take_the_field', 'take_the_fifth', 'take_the_floor', 'take_the_road', 'take_the_veil', 'take_time_by_the_forelock', 'take_to', 'take_water', 'talk_of', 'talk_down', 'talk_into', 'talk_out_of', 'talk_shop', 'talk_turkey', 'tar-and-feather', 'tart_up', 'tear_away', 'tee_off', 'tee_up', 'tell_on', 'test_fly', 'thin_out', 'think_about', 'think_out', 'think_the_world_of', 'think_twice', 'throw_back', 'throw_in', 'tie-dye', 'tie_in', \"tighten_one's_belt\", 'toe_the_line', 'top_off', 'toss_in', 'touch-type', 'touch_down', 'touch_on', 'travel_purposefully', 'trot_out', 'trouble-shoot', 'tumble_dry', 'tune_in', 'turn_a_blind_eye', 'turn_a_nice_dime', 'turn_a_trick', 'turn_away', 'turn_in', 'turn_on', 'turn_on_a_dime', 'turn_over', 'turn_the_tables', 'turn_thumbs_down', 'turn_to', 'turn_up_the_heat', 'vege_out', 'vote_in', 'walk_around', 'walk_off', 'walk_in', 'walk_out', 'walk_out_of', 'walk_over', 'walk_through', 'wall_in', 'ward_off', 'warm_to', 'warm_up', 'wash_away', \"wash_one's_hands\", 'wash_out', 'water_down', 'wave_off', 'whittle_away', 'wear_away', 'wear_on', 'wear_ship', 'weigh_anchor', 'weigh_down', 'whip_through', 'whip_up', 'whisk_off', 'white_out', 'wind_up', 'window-shop', 'wine_and_dine', 'winkle_out', 'wipe_off', 'wise_up', 'wolf-whistle', 'work_at', 'work_in', 'work_off', 'work_out', 'write_on', 'write_copy', 'write_in', 'write_off', 'yield_up', 'zoom_in']\n"
     ]
    }
   ],
   "source": [
    "# Getting problem words\n",
    "\n",
    "wn_words = []\n",
    "problem_words = []\n",
    "\n",
    "for word in wn.words():\n",
    "    ss = wn.synsets(word, pos = 'v')\n",
    "    for s in ss:\n",
    "        sep = '.'\n",
    "        n = s.name().split(sep, 1)[0]\n",
    "        if n in wn_words:\n",
    "            pass\n",
    "        else:\n",
    "            wn_words.append(n)\n",
    "\n",
    "for w in range(0, len(wn_words)):\n",
    "    if wn_words[w].isalpha() == False:\n",
    "        problem_words.append(wn_words[w])\n",
    "\n",
    "print(len(problem_words))\n",
    "print(problem_words)           "
   ]
  },
  {
   "cell_type": "code",
   "execution_count": 16,
   "id": "e3aa13d9",
   "metadata": {},
   "outputs": [
    {
     "name": "stdout",
     "output_type": "stream",
     "text": [
      "['attach to', 'play along', 'carry through', 'roll up', 'breeze through', 'air out', 'air-condition', 'air-cool', 'put on', 'lend oneself', 'border on', 'set about', 'wake up', 'give voice', 'draw a bead on', 'fall upon', 'bet on', 'sleep together', 'free-base', 'give birth', 'have a bun in the oven', 'go to bed', 'get down', 'belt out', 'tie down', 'blaze away', 'shove off', 'blow out', 'film over', 'trouble oneself', 'break in', 'break dance', 'build up', 'strong-arm', 'burn off', 'trip up', 'focus on', 'cheat on', 'care for', 'go around', 'clear up', 'clear-cut', 'close up', 'issue forth', 'feel for', 'boil down', 'band together', 'get in touch', 'plug in', 'put up', 'copper-bottom', 'break through', 'crack up', 'barge in', 'break down', 'bring around', 'curl up', 'write out', 'switch off', 'cut off', 'cut out', 'scratch out', 'cut down', 'make bold', 'go steady', 'de-iodinate', 'french-fry', 'get the better of', 'change shape', 'take down', 'press down', 'lay waste to', 'break up', 'double over', 'double-space', 'toss off', 'pull back', 'drip-dry', 'drink in', 'come forth', 'blow up', 'get off', 'lay down', 'think of', 'switch over', 'run down', 'run out', 'press out', 'snuff out', 'stub out', \"talk through one's hat\", 'fill up', 'finish up', 'eat up', 'open fire', 'pay back', 'ease up', 'flare out', 'pen up', 'take after', 'keep up', 'stick to', 'horse around', 'line up', 'find oneself', 'freeze-dry', 'eat into', 'move over', 'run low', 'think up', 'travel rapidly', 'follow through', 'matter to', 'intrude on', 'turn back', 'chew the fat', 'call on the carpet', 'stick out', 'knock cold', 'keep open', 'stamp out', 'lie down', 'face-lift', 'light up', 'fall back', 'turn down', 'cross off', 'mass-produce', 'take care', 'grind to a halt', 'tone down', 'hop on', 'be active', 'chew over', 'pin down', 'penny-pinch', 'nickel-and-dime', 'operate on', 'come out of the closet', 'bear down', 'bubble over', 'look out on', 'tamp down', 'pay up', 'travel by', 'top out', 'peel off', 'crop up', 'weight-lift', 'quest for', 'quick-freeze', 'leave office', 'drop out', 'single-foot', 'foray into', 'beat up', 'call up', 'ramble on', 're-create', 'pick up', 'cross-file', 'rule out', 'let go of', 'take over', 'get rid of', 'take out', 'make noise', 'come to', 'put out', 'shrink back', 'draw in', 'hark back', 'come back', 'change by reversal', 'get up', 'roll out', 'chat up', 'turn out', 'rough in', 'round off', 'rout out', 'set up', 'short-change', 'short-circuit', 'lock in', 'spill the beans', 'drop the ball', 'sit down', 'baby-sit', 'skim over', 'bang up', 'snow-blind', 'hang glide', 'sober up', 'spread-eagle', 'spruce up', 'stand by', 'hold on', 'come on', 'well up', 'tip off', 'toilet-train', 'tongue-tie', 'try on', 'change state', 'call on', 'two-time', 'dress down', 'pine away', 'water-wash', 'de-escalate', 'bow out', 'bust up', 'give way', 'run off', 'fall through', 'about-face', 'still-hunt', 'bar mitzvah', 'bat mitzvah', 'belly dance', 'belong to', 'black marketeer', 'shed blood', 'blurt out', 'bog down', 'hee-haw', 'bunch together', 'butt-weld', 'carpet bomb', 'center punch', 'cha-cha', 'drive around', 'cling to', 'co-star', 'court-martial', 'crash land', 'cross-index', 'cross-link', 'deep freeze', 'hold forth', 'dive-bomb', 'disk-jockey', 'double crochet', 'double cross', 'drop-kick', 'dry clean', 'dry-dock', 'e-mail', 'run into', 'fee-tail', 'set forth', 'ferret out', 'figure skate', 'finger-paint', 'taper off', 'fly-fish', 'flim-flam', 'folk dance', 'force out', 'freak out', 'goose step', 'dish the dirt', 'snap up', 'clear the throat', 'help oneself', 'ice skate', 'lead up', 'slip in', 'square up', 'jot down', 'leap out', 'kick back', 'kick up', 'pull the leg of', 'kit out', 'letter bomb', 'machine gun', 'wipe up', 'get through', 'nail down', 'nolle pros', 'atom-bomb', 'one-step', 'beat around the bush', 'pick at', 'perk up', 'place-kick', 'prick up', 'prop up', 'purl stitch', 'lean back', 'get worse', 'hand over', 'play back', 'buy back', 'sum up', 'rev up', 'depend on', 'roller skate', 'rough-hew', 'scotch tape', 'grope for', 'teeter-totter', 'shell stitch', 'silt up', 'single crochet', 'ski jump', 'skin-dive', 'skinny-dip', 'sky dive', 'slam dance', 'take a hit', 'speed skate', 'spring-clean', 'square dance', 'last out', 'strip mine', 'tap dance', 'tape record', 'test drive', 'tramp down', 'triple-space', 'catch on', 'swing around', 'turn around', 'fine-tune', 'two-step', 'travel to', 'water ski', 'white-out', 'let out', 'cull out', 'write up', 'x-ray', 'zip up', 'abound in', 'account for', 'acid-wash', 'act as', 'act involuntarily', 'act on', 'act out', 'lord it over', 'act up', 'add on', 'add to', 'make sense', 'air-drop', 'air-ship', 'air-slake', 'give up', 'ally with', 'angle-park', 'ask for it', 'ask out', 'assert oneself', 'inhere in', 'attend to', 'keep off', 'back up', 'chicken out', 'back out', 'bail out', 'band oneself', 'bandy about', 'bang out', 'pub-crawl', 'beat down', 'chime in', 'barrage jam', 'barter away', 'take pains', 'be born', 'be due', 'be full', 'get on', 'know the score', 'be well', 'take away', 'drag down', 'bear down on', 'bear up', 'beat a retreat', 'cast about', 'hammer in', 'beat out', 'bed-hop', 'bed down', 'believe in', 'bell the cat', 'belly-flop', 'belly-land', 'fall over backwards', 'get cracking', 'betake oneself', 'tie up', 'bind over', 'snap at', 'bite out', 'black out', 'zonk out', 'blank out', 'blanket jam', 'blare out', 'blast off', 'blend in', 'shut off', 'block out', 'blow-dry', \"flip one's lid\", 'blow off', 'board up', 'boat-race', 'bob around', 'bob under', 'body-surf', 'body guard', 'boil over', 'garbage down', 'bomb out', 'bomb up', 'book up', 'boost up', 'bottom out', 'get well', 'bounce out', 'box in', 'steel oneself against', 'break bread', 'break even', 'break into', 'cut short', 'break open', 'break out', \"break someone's heart\", 'break with', 'brick in', 'tide over', 'bristle at', 'bring about', 'bring round', 'bring to', 'bring down', 'bring home', 'take home', 'bring in', 'pull off', 'bring on', 'bring oneself', 'bring out', 'bring to bear', 'bring up', 'butter up', 'tell off', 'brush on', 'bubble up', 'take heart', 'budget for', 'build in', 'repose on', 'bullet vote', 'face off', 'bump up', 'bundle off', 'bundle up', 'bunk off', 'burn down', 'burst in on', 'burst out', 'pop out', 'bush out', 'buy into', 'buy it', 'buy off', 'buy time', 'by-bid', 'call at', 'call back', 'call in', 'call it quits', \"call one's bluff\", 'call out', 'call the shots', 'call to order', 'cancel out', 'cap off', 'care a hang', 'face the music', 'carry back', 'carry over', 'carry to term', 'carry weight', 'cart off', 'carve out', 'cash in on', 'cash out', 'cast off', 'cast on', 'catch sight', 'catch cold', 'catch it', 'find out', 'catch up', 'make up', 'cause to be perceived', 'cause to sleep', 'cell phone', 'center on', 'chain-smoke', 'chain up', 'chalk up', 'change hands', 'change integrity', 'change intensity', 'change magnitude', 'change posture', 'change surface', 'change taste', 'chase away', 'check in', 'check out', 'chicken-fight', 'child-proof', 'chip away', 'choke off', 'choose up', 'chop down', 'churn out', 'revolve around', 'clamp down', 'slap on', 'clap up', 'clean out', 'clean up', 'clear off', 'clear out', 'clear the air', 'click off', 'click open', 'clock in', 'clock out', 'log up', 'close in', 'close out', 'cloud over', 'clue in', 'co-author', 'co-educate', 'collocate with', 'co-opt', 'co-sign', 'co-vary', 'cobble together', 'cold-cream', 'weed out', 'come across', 'come round', 'come around', 'come away', 'drop by', 'come by', 'come close', 'come down', 'come to the fore', 'come in', 'come in for', 'come in handy', 'come to life', 'come near', 'come of age', 'go off', 'go on', 'come out', 'fall short', 'come to grips', 'come to light', 'come to mind', 'come up', 'enter upon', 'commit suicide', 'comparison-shop', 'trump up', 'conform to', 'poop out', 'connive at', 'contract in', 'contract out', 'cool off', \"kick one's heels\", 'coop up', 'opt out', 'copy out', 'rope in', 'cozy up', 'cough up', 'count down', 'count off', 'count out', 'counter-drill', 'curry favor', 'cover for', 'grind out', 'crap up', 'crash-dive', 'cream off', 'create by mental act', 'create from raw material', 'create verbally', 'sneak in', 'creep up', 'cross-check', 'cross-dress', 'cross-fertilize', 'cross-refer', 'cross examine', 'cross oneself', 'cry out for', 'curtain off', 'custom-make', 'cut across', 'cut away', 'cut back', 'cut corners', 'cut in', 'cut to', 'cut to ribbons', 'cycle on', 'daisy-chain', 'dash down', 'dash off', 'go back', 'de-access', 'de-emphasize', 'de-energize', 'de-ionate', 'deep-dye', 'deep-fat-fry', 'deep-six', 'descant on', 'die back', 'die down', 'die out', 'pitch in', 'dig out', 'eat in', 'eat out', 'dip into', 'dip solder', 'disagree with', 'hash out', 'dispense with', 'dispose of', 'do a job on', 'do justice', 'go all out', 'wash up', 'do the honors', 'do up', 'doll up', 'do well', 'do well by', 'fall asleep', 'double-check', 'double-date', 'double-glaze', 'double-park', 'double-team', 'double bogey', 'double dye', 'double tongue', 'double up', 'drag on', 'drag up', 'drain the cup', 'draw the line', 'draw away', 'draw off', 'draw close', 'pull in', 'suck in', 'draw out', 'draw up', 'dress ship', 'dress up', 'drift apart', 'drive home', 'drive in', 'drive up', 'drool over', 'drop back', 'drop like flies', 'drop off', \"drop one's serve\", 'drop open', 'drown out', 'dry-nurse', 'dry-rot', 'dry-wall', 'run dry', 'dwell on', 'land up', 'listen in', 'edge in', 'flow out', 'eke out', 'shine at', 'explode a bombshell', 'express-mail', 'express emotion', 'extend oneself', 'face-harden', 'factor analyse', 'fall all over', 'fall apart', 'fall off', 'fall for', 'fall from grace', 'fall in', 'fall in line', 'fall in love', 'fall into', 'fall out', 'fall over', 'fall short of', 'hire out', 'fast dye', 'take up', \"feast one's eyes\", \"feather one's nest\", 'feed back', 'feed on', 'feel like', 'feel like a million', 'make a clean breast of', 'field-test', 'fight back', 'file in', 'file out', 'fill in', 'round out', 'fit the bill', 'film-make', 'firm up', 'fix up', 'flag down', 'flare up', 'flood in', 'flow away', 'fluff up', 'wash down', 'fly blind', 'fly by', 'zip by', 'fly contact', 'fly high', 'fly in the face of', 'fly on', 'fly open', 'foam at the mouth', 'foist off', 'fog up', 'follow suit', 'follow up', 'play around', 'force-feed', 'force-land', 'foul out', 'free-associate', 'ice up', 'frown on', 'fudge together', 'fund-raise', 'gang-rape', 'gas up', 'take in', 'take a look', 'get a noseful', 'get around', 'get across', 'get along with', 'get around to', 'get at', 'win back', 'get even', 'get by', 'write down', 'get in', 'get into', 'get it', 'hop out', 'get off the ground', \"take one's lumps\", 'pull out', 'get out', 'get over', 'get the best', 'get the goods', 'get the jump', 'while away', 'get to', 'work up', 'gift-wrap', 'gild the lily', 'jazz up', 'give and take', 'give away', 'give it a whirl', 'have a go', 'give off', 'give the axe', 'give the eye', 'give the glad eye', 'glide-bomb', 'globe-trot', 'gloss over', 'go a long way', 'go ahead', 'go by', 'go far', 'go down', 'go dutch', 'try for', 'go for broke', 'go home', 'go into', 'go off half-cocked', 'go out', 'work through', 'go through the motions', 'go to pot', 'go to war', 'go up', 'gouge out', 'ground out', 'grow up', 'grub up', 'grunt-hoot', 'gum up', 'gun down', 'thrash out', 'hand-dye', 'hand-pick', 'hand down', 'handle with kid gloves', 'hang by a thread', 'hang on', 'hang out', 'hang together', 'hang up', 'hard surface', 'harsh on', 'have a ball', 'have down', 'have it coming', 'pile up', 'hear out', 'heat up', 'help out', 'hem and haw', 'hem in', 'high-tail', 'hike up', 'hit home', 'hit the dirt', 'luck out', 'hive off', 'hog-tie', 'hold down', 'stand pat', 'hold off', \"hold one's own\", 'hold out', 'hold over', 'stand for', 'hold sway', 'hold the line', 'hold up', 'stand up', 'hole up', 'home-school', 'range in', 'hook up', 'soup up', 'horse-race', 'horse-trade', 'hot-dog', 'hot-wire', 'hot-work', 'hugger mugger', 'hunker down', 'hydrogen-bomb', 'hype up', 'impulse-buy', 'iron out', 'island hop', 'join battle', 'jump off', 'keel over', 'keep away', 'keep down', 'run on', 'stand guard', 'keep in', 'keep note', 'stand back', \"keep one's eyes peeled\", 'keep quiet', 'plug away', 'keep out', 'keep step', 'keep tabs on', 'keep to oneself', 'keep track', 'kick-start', 'kick around', 'kick in', 'set in', 'kill oneself', 'set back', 'knock out', 'lam into', 'lash together', 'latch on', 'laugh off', 'lay hands on', 'lay out', 'lay over', 'lay up', 'lead off', 'lead on', 'lean on', 'leave behind', 'leave no stone unturned', 'leave off', 'lust after', 'leech onto', 'loose off', 'let go', 'let it go', 'lie about', 'lie awake', 'lie dormant', 'lie in', 'lie low', 'take off', 'limber up', \"line one's pockets\", 'lip-synch', 'lip off', 'sell out', 'live in', 'live it up', 'live out', 'lock out', 'lock up', 'log in', 'log out', 'look after', 'look around', 'look away', 'look back', 'look down on', 'look forward', 'look like', 'look out', 'look to', 'lose sight of', 'lose track', 'luck it', 'machine wash', 'mail out', 'make a point', 'raise hell', 'make as if', 'make good', 'make hay', 'make no bones about', 'make out', 'make peace', 'make way', 'mark down', 'mark off', 'mark up', 'max out', 'meet up with', 'mound over', 'move back and forth', 'move in', 'move in on', 'move involuntarily', 'move out', 'muscle into', 'net fish', 'sniff out', 'push out', 'ooze through', 'open up', 'originate in', 'out-herod', 'stare down', 'second-guess', 'over-correct', 'pass over', 'pack on', 'pan-broil', 'pan-fry', 'pan out', 'pan roast', 'pant-hoot', 'parallel-park', 'partake in', 'pass away', 'pass off', 'pass on', 'pass through', 'pass up', 'pattern-bomb', 'pay cash', 'pay off', 'pension off', 'phase in', 'phase out', 'pick off', 'sieve out', 'take a dare', 'piece-dye', 'pipe-clay', 'pipe in', 'pipe up', 'pistol-whip', 'set down', 'plonk down', 'play it by ear', 'play out', 'play possum', 'plea-bargain', 'press on', 'plump in', 'plump out', 'point jam', 'point the way', 'point up', 'poke into', 'pooh-pooh', 'pop in', 'pop off', 'throw cold water on', 'pour out', 'spill over', 'power-dive', 'pressure-wash', 'pressure-cook', 'take pride', 'prove oneself', 'puff up', \"pull one's weight\", 'pull out all the stops', 'pull over', 'pull the plug', 'pull up short', 'push aside', 'push up', 'put away', 'tuck in', 'put in', 'turn off', 'put out feelers', 'put through', 'put to sleep', 'puzzle over', 'rack up', 'rain out', 'raise the roof', 'rake in', 'rake off', 'rake up', 'rationalize away', 'rattle down', 're-address', 're-afforest', 're-argue', 're-assume', 're-emphasise', 're-enter', 're-equip', 're-examine', 're-explore', 're-incorporate', 'reach into', \"reach one's nostrils\", 'reach out', 'read between the lines', 'rear-end', 'rear back', 'red-eye', 'red-ink', 'reel off', 'take the count', 'remember oneself', 'render-set', 'report out', 'take back', 'touch up', 'ride off', 'ride herd', 'ride horseback', 'ride roughshod', 'ride the bench', 'rig up', 'ring out', 'ring up', 'rip out', 'roar off', 'roll in', 'roll over', 'rope up', 'rough-dry', 'rough-house', 'rough-sand', 'rough up', 'round up', 'rout up', 'scrape along', 'run away', 'run bases', 'run by', 'run up', 'rush off', 'send down', 'sally forth', 'sand cast', 'say farewell', 'scale down', 'scale up', 'scoop out', 'screen off', 'screw up', 'size up', 'see double', 'see eye to eye', 'see through', 'seek out', 'self-destruct', 'sell off', 'sell short', 'semi-automatize', 'send a message', 'send around', 'send in', 'set ablaze', 'set off', 'set to music', 'shake hands', 'shoo off', 'shoot craps', 'shoot up', 'shoulder in', 'shout down', 'show the door', 'shrug off', 'shy away from', 'side-slip', 'sign away', 'sign off', 'sign up', 'sing along', 'single out', 'sit back', 'sit by', 'sit in', 'sit out', 'sit tight', 'stay up', 'sit up', 'skin over', 'skin pop', 'skip-bomb', 'skip town', 'slam-dunk', 'sleep late', 'sleep off', 'sleep over', 'slice into', 'slip away', 'slip off', 'slip on', 'slough off', 'stink up', 'smoke out', 'snap back', 'soft-pedal', 'soft-soap', 'soft-solder', 'sound off', \"sow one's oats\", 'speak for', 'speak in tongues', 'speak of the devil', 'speak up', 'spell out', 'spin-dry', 'spin off', 'spirit away', 'sponge down', 'sponge on', 'sponge up', 'spot-check', 'spot jam', 'spot promote', 'spray-dry', 'string out', 'squeak by', 'squeeze for', 'squeeze out', 'wring out', 'stage direct', 'stand out', 'stand still', 'stave in', 'stay at', 'stay in place', 'stick together', 'steam-heat', 'step on', 'step out', 'still-fish', 'stir fry', 'stoop to', 'stow away', 'street-walk', 'strike a blow', 'strike a chord', 'strike down', 'strike dumb', 'strike out', 'strike up', 'strip-search', 'swear in', 'swear off', 'sweat off', 'wipe out', 'sweep away', 'sweep under the rug', 'switch-hit', 'switch on', 'tag along', 'take a bow', 'take a dive', 'take a joke', 'take hold', 'take effect', 'take five', 'take in vain', 'take it on the chin', 'take kindly to', 'take lying down', 'take notice', 'take office', 'take orders', 'take the stage', 'take ten', 'take the bull by the horns', 'take the cake', 'take the field', 'take the fifth', 'take the floor', 'take the road', 'take the veil', 'take time by the forelock', 'take to', 'take water', 'talk of', 'talk down', 'talk into', 'talk out of', 'talk shop', 'talk turkey', 'tar-and-feather', 'tart up', 'tear away', 'tee off', 'tee up', 'tell on', 'test fly', 'thin out', 'think about', 'think out', 'think the world of', 'think twice', 'throw back', 'throw in', 'tie-dye', 'tie in', \"tighten one's belt\", 'toe the line', 'top off', 'toss in', 'touch-type', 'touch down', 'touch on', 'travel purposefully', 'trot out', 'trouble-shoot', 'tumble dry', 'tune in', 'turn a blind eye', 'turn a nice dime', 'turn a trick', 'turn away', 'turn in', 'turn on', 'turn on a dime', 'turn over', 'turn the tables', 'turn thumbs down', 'turn to', 'turn up the heat', 'vege out', 'vote in', 'walk around', 'walk off', 'walk in', 'walk out', 'walk out of', 'walk over', 'walk through', 'wall in', 'ward off', 'warm to', 'warm up', 'wash away', \"wash one's hands\", 'wash out', 'water down', 'wave off', 'whittle away', 'wear away', 'wear on', 'wear ship', 'weigh anchor', 'weigh down', 'whip through', 'whip up', 'whisk off', 'white out', 'wind up', 'window-shop', 'wine and dine', 'winkle out', 'wipe off', 'wise up', 'wolf-whistle', 'work at', 'work in', 'work off', 'work out', 'write on', 'write copy', 'write in', 'write off', 'yield up', 'zoom in']\n"
     ]
    }
   ],
   "source": [
    "cleaned_pw = []\n",
    "\n",
    "for word in problem_words:\n",
    "    cleaned = word.replace('_', ' ')\n",
    "    cleaned_pw.append(cleaned)\n",
    "    \n",
    "print(cleaned_pw)"
   ]
  },
  {
   "cell_type": "code",
   "execution_count": 6,
   "id": "5c6ee8c4",
   "metadata": {},
   "outputs": [
    {
     "name": "stdout",
     "output_type": "stream",
     "text": [
      "['lend_oneself', 'trouble_oneself', \"talk_through_one's_hat\", 'find_oneself', 'help_oneself']\n",
      "['lend oneself', 'trouble oneself', \"talk through one's hat\", 'find oneself', 'help oneself']\n",
      "['lend', 'talk', 'find', 'help', 'assert']\n"
     ]
    }
   ],
   "source": [
    "# Extracting terms with \"oneself\", \"one's\"\n",
    "\n",
    "_one = [] # hyphenated, uninflected version\n",
    "\n",
    "for word in problem_words:\n",
    "    if '_one' in word:\n",
    "        _one.append(word) #len: 31\n",
    "        \n",
    "# Creating cleaned_version of the _one list\n",
    "\n",
    "_one_clean = [] # uninflected version\n",
    "_one_verb = [] # VERB in the uninflected version\n",
    "\n",
    "for word in _one:\n",
    "    _one_clean.append(word.replace('_', ' '))\n",
    "\n",
    "for word in _one_clean:\n",
    "    doc = lg(word)\n",
    "    for token in doc:\n",
    "        if token.pos_ == 'VERB':\n",
    "            _one_verb.append(token.text)\n",
    "            \n",
    "print(_one[0:5])\n",
    "print(_one_clean[0:5])\n",
    "print(_one_verb[0:5])"
   ]
  },
  {
   "cell_type": "code",
   "execution_count": 7,
   "id": "4232fb7b",
   "metadata": {},
   "outputs": [],
   "source": [
    "# Creating spaCy matcher in following function\n",
    "\n",
    "cap_one_clean = []\n",
    "_one_period = []\n",
    "_one_comma = []\n",
    "\n",
    "for word in _one_clean:\n",
    "    cap_one_clean.append(word.capitalize())\n",
    "\n",
    "for word in _one_clean:\n",
    "    _one_period.append(word + '.')\n",
    "\n",
    "for word in _one_clean:\n",
    "    _one_comma.append(word + ',')\n",
    "\n",
    "_one_docs = []\n",
    "\n",
    "for word in cap_one_clean + _one_period + _one_comma:\n",
    "    _one_docs.append(lg(word))\n",
    "\n",
    "one_matcher = pmatcher.add('PHRASES', _one_docs) # <<< spaCy phrasematcher"
   ]
  },
  {
   "cell_type": "code",
   "execution_count": 8,
   "id": "45b5ba47",
   "metadata": {},
   "outputs": [],
   "source": [
    "# Function to identify _one verbs in use\n",
    "\n",
    "def get_ones(sentence):\n",
    "    oneself = ['oneself', 'itself', 'himself', 'herself', 'themselves', 'myself']\n",
    "    ones = ['his', 'hers', 'their', 'theirs', 'ours', 'your', 'my']\n",
    "    both = oneself + ones\n",
    "    s = contractions.fix(sentence)\n",
    "    s_sep = s.split(' ')\n",
    "    doc = lg(sentence)\n",
    "    for token in doc:            \n",
    "        if token.pos_ == 'VERB':\n",
    "            inflected = token.text\n",
    "            i = token.i\n",
    "            t = doc[i+1].text\n",
    "            if t not in both:\n",
    "                pass\n",
    "            else:\n",
    "                uninflected = token._.lemma()\n",
    "                if t in oneself:\n",
    "                    existing = ' '.join([token.text, t])\n",
    "                    in_place = '_'.join([uninflected, 'oneself'])\n",
    "                    s = s.replace(existing, in_place)\n",
    "                    #print(s)\n",
    "                else:\n",
    "                    if t in ones:\n",
    "                        existing = ' '.join([token.text, t])\n",
    "                        #print(existing)\n",
    "                        in_place = ' '.join([uninflected, \"one's\"])\n",
    "                        #print(in_place)\n",
    "                        s = s.replace(existing, in_place)\n",
    "                        #print(s)\n",
    "                #print(s)    \n",
    "                doc_s = lg(s)\n",
    "                matches = pmatcher(doc_s) # <<< if problem happens, check here first\n",
    "                if len(matches) == 0:\n",
    "                    return \"None matched!\"\n",
    "                else:\n",
    "                    match = matches[0]\n",
    "                    start = match[1]\n",
    "                    end = match[2]\n",
    "                    span = '_'.join([token.text for token in doc_s[start:end]]).replace(',', '').replace('.', '')\n",
    "                    return sentence, span "
   ]
  },
  {
   "cell_type": "code",
   "execution_count": 10,
   "id": "408440b7",
   "metadata": {},
   "outputs": [
    {
     "data": {
      "text/plain": [
       "('I ate an apple, washed my hands, and washed my hands of the day.',\n",
       " \"wash_one's_hands\")"
      ]
     },
     "execution_count": 10,
     "metadata": {},
     "output_type": "execute_result"
    }
   ],
   "source": [
    "test_sentence = \"I ate an apple, washed my hands, and washed my hands of the day.\"\n",
    "\n",
    "get_ones(test_sentence) # <<< problem: return both instances of the verb"
   ]
  },
  {
   "cell_type": "code",
   "execution_count": 14,
   "id": "a4dadbf1",
   "metadata": {},
   "outputs": [
    {
     "name": "stdout",
     "output_type": "stream",
     "text": [
      "['air\\\\s?condition', 'air\\\\s?cool', 'free\\\\s?base', 'strong\\\\s?arm', 'clear\\\\s?cut', 'copper\\\\s?bottom', 'de\\\\s?iodinate', 'french\\\\s?fry', 'double\\\\s?space', 'drip\\\\s?dry', 'freeze\\\\s?dry', 'face\\\\s?lift', 'mass\\\\s?produce', 'penny\\\\s?pinch', 'nickel\\\\s?and', 'weight\\\\s?lift', 'quick\\\\s?freeze', 'single\\\\s?foot', 're\\\\s?create', 'cross\\\\s?file', 'short\\\\s?change', 'short\\\\s?circuit', 'baby\\\\s?sit', 'snow\\\\s?blind', 'spread\\\\s?eagle', 'toilet\\\\s?train', 'tongue\\\\s?tie', 'two\\\\s?time', 'water\\\\s?wash', 'de\\\\s?escalate', 'about\\\\s?face', 'still\\\\s?hunt', 'hee\\\\s?haw', 'butt\\\\s?weld', 'cha\\\\s?cha', 'co\\\\s?star', 'court\\\\s?martial', 'cross\\\\s?index', 'cross\\\\s?link', 'dive\\\\s?bomb', 'disk\\\\s?jockey', 'drop\\\\s?kick', 'dry\\\\s?dock', 'e\\\\s?mail', 'fee\\\\s?tail', 'finger\\\\s?paint', 'fly\\\\s?fish', 'flim\\\\s?flam', 'atom\\\\s?bomb', 'one\\\\s?step', 'place\\\\s?kick', 'rough\\\\s?hew', 'teeter\\\\s?totter', 'skin\\\\s?dive', 'skinny\\\\s?dip', 'spring\\\\s?clean', 'triple\\\\s?space', 'fine\\\\s?tune', 'two\\\\s?step', 'white\\\\s?out', 'x\\\\s?ray', 'acid\\\\s?wash', 'air\\\\s?drop', 'air\\\\s?ship', 'air\\\\s?slake', 'angle\\\\s?park', 'pub\\\\s?crawl', 'bed\\\\s?hop', 'belly\\\\s?flop', 'belly\\\\s?land', 'blow\\\\s?dry', 'boat\\\\s?race', 'body\\\\s?surf', 'by\\\\s?bid', 'chain\\\\s?smoke', 'chicken\\\\s?fight', 'child\\\\s?proof', 'co\\\\s?author', 'co\\\\s?educate', 'co\\\\s?opt', 'co\\\\s?sign', 'co\\\\s?vary', 'cold\\\\s?cream', 'comparison\\\\s?shop', 'counter\\\\s?drill', 'crash\\\\s?dive', 'cross\\\\s?check', 'cross\\\\s?dress', 'cross\\\\s?fertilize', 'cross\\\\s?refer', 'custom\\\\s?make', 'daisy\\\\s?chain', 'de\\\\s?access', 'de\\\\s?emphasize', 'de\\\\s?energize', 'de\\\\s?ionate', 'deep\\\\s?dye', 'deep\\\\s?fat', 'deep\\\\s?six', 'double\\\\s?check', 'double\\\\s?date', 'double\\\\s?glaze', 'double\\\\s?park', 'double\\\\s?team', 'dry\\\\s?nurse', 'dry\\\\s?rot', 'dry\\\\s?wall', 'express\\\\s?mail', 'face\\\\s?harden', 'field\\\\s?test', 'film\\\\s?make', 'force\\\\s?feed', 'force\\\\s?land', 'free\\\\s?associate', 'fund\\\\s?raise', 'gang\\\\s?rape', 'gift\\\\s?wrap', 'glide\\\\s?bomb', 'globe\\\\s?trot', 'go_off_half\\\\s?cocked', 'grunt\\\\s?hoot', 'hand\\\\s?dye', 'hand\\\\s?pick', 'high\\\\s?tail', 'hog\\\\s?tie', 'home\\\\s?school', 'horse\\\\s?race', 'horse\\\\s?trade', 'hot\\\\s?dog', 'hot\\\\s?wire', 'hot\\\\s?work', 'hydrogen\\\\s?bomb', 'impulse\\\\s?buy', 'kick\\\\s?start', 'lip\\\\s?synch', 'out\\\\s?herod', 'second\\\\s?guess', 'over\\\\s?correct', 'pan\\\\s?broil', 'pan\\\\s?fry', 'pant\\\\s?hoot', 'parallel\\\\s?park', 'pattern\\\\s?bomb', 'piece\\\\s?dye', 'pipe\\\\s?clay', 'pistol\\\\s?whip', 'plea\\\\s?bargain', 'pooh\\\\s?pooh', 'power\\\\s?dive', 'pressure\\\\s?wash', 'pressure\\\\s?cook', 're\\\\s?address', 're\\\\s?afforest', 're\\\\s?argue', 're\\\\s?assume', 're\\\\s?emphasise', 're\\\\s?enter', 're\\\\s?equip', 're\\\\s?examine', 're\\\\s?explore', 're\\\\s?incorporate', 'rear\\\\s?end', 'red\\\\s?eye', 'red\\\\s?ink', 'render\\\\s?set', 'rough\\\\s?dry', 'rough\\\\s?house', 'rough\\\\s?sand', 'self\\\\s?destruct', 'semi\\\\s?automatize', 'side\\\\s?slip', 'skip\\\\s?bomb', 'slam\\\\s?dunk', 'soft\\\\s?pedal', 'soft\\\\s?soap', 'soft\\\\s?solder', 'spin\\\\s?dry', 'spot\\\\s?check', 'spray\\\\s?dry', 'steam\\\\s?heat', 'still\\\\s?fish', 'street\\\\s?walk', 'strip\\\\s?search', 'switch\\\\s?hit', 'tar\\\\s?and', 'tie\\\\s?dye', 'touch\\\\s?type', 'trouble\\\\s?shoot', 'window\\\\s?shop', 'wolf\\\\s?whistle']\n"
     ]
    }
   ],
   "source": [
    "# Extracting hyphenated words and creating RegEx expressions\n",
    "\n",
    "hyphenated = []\n",
    "hyphenated_reglist = []\n",
    "reg_container = r'{first}\\s?{second}'\n",
    "\n",
    "for word in problem_words:\n",
    "    if '-' in word:\n",
    "        hyphenated.append(word) # len: 190\n",
    "\n",
    "for word in hyphenated:\n",
    "    word = word.replace('-', ' ')\n",
    "    doc = lg(word)\n",
    "    first = doc[0].text\n",
    "    second = doc[1].text\n",
    "    filled_reg = reg_container.format(first = first, second = second)\n",
    "    hyphenated_reglist.append(filled_reg)\n",
    "\n",
    "print(hyphenated_reglist)"
   ]
  },
  {
   "cell_type": "code",
   "execution_count": 17,
   "id": "dea98210",
   "metadata": {},
   "outputs": [],
   "source": [
    "def get_hyphenated(sentence):\n",
    "    hyphenated_words = []\n",
    "    s = sentence\n",
    "    doc = lg(sentence)\n",
    "    for token in doc:\n",
    "        s = s.replace(token.text, getLemma(token.text, upos = 'VERB')[0])\n",
    "    for i in range(0, len(hyphenated_reglist)):\n",
    "        s = re.subn(hyphenated_reglist[i], hyphenated[i], s)[0]\n",
    "    for h in hyphenated:\n",
    "        if h in s:\n",
    "            hyphenated_words.append(h)\n",
    "    return sentence, s, hyphenated_words"
   ]
  },
  {
   "cell_type": "code",
   "execution_count": 18,
   "id": "2f625899",
   "metadata": {},
   "outputs": [
    {
     "data": {
      "text/plain": [
       "('I ate a sandwich, then cosigned a lease with my sister, then slam-dunked until noon.',\n",
       " 'I eat a sandwich then co-sign a lease with my sister then slam-dunk until noon',\n",
       " ['co-sign', 'slam-dunk'])"
      ]
     },
     "execution_count": 18,
     "metadata": {},
     "output_type": "execute_result"
    }
   ],
   "source": [
    "get_hyphenated('I ate a sandwich, then cosigned a lease with my sister, then slam-dunked until noon.')"
   ]
  },
  {
   "cell_type": "markdown",
   "id": "d7410325",
   "metadata": {},
   "source": [
    "# Other lists\n",
    "\n",
    "### dep_prt\n",
    "Second word's dependency is a particle\n",
    "\n",
    "### pos_adp \n",
    "Second word's POS is an adposition\n",
    "\n",
    "### pos_adj\n",
    "Second word's POS is an adjective\n",
    "\n",
    "### pos_adv\n",
    "Second word's POS is an adverb\n",
    "\n",
    "### pos_n \n",
    "Second word's POS is an noun\n",
    "\n",
    "### remaining \n",
    "Can't sort"
   ]
  },
  {
   "cell_type": "code",
   "execution_count": null,
   "id": "46908bb8",
   "metadata": {},
   "outputs": [],
   "source": []
  },
  {
   "cell_type": "code",
   "execution_count": null,
   "id": "a5a05822",
   "metadata": {},
   "outputs": [],
   "source": []
  },
  {
   "cell_type": "code",
   "execution_count": null,
   "id": "b6a2bd79",
   "metadata": {},
   "outputs": [],
   "source": []
  }
 ],
 "metadata": {
  "kernelspec": {
   "display_name": "Python [conda env:openai] *",
   "language": "python",
   "name": "conda-env-openai-py"
  },
  "language_info": {
   "codemirror_mode": {
    "name": "ipython",
    "version": 3
   },
   "file_extension": ".py",
   "mimetype": "text/x-python",
   "name": "python",
   "nbconvert_exporter": "python",
   "pygments_lexer": "ipython3",
   "version": "3.8.13"
  }
 },
 "nbformat": 4,
 "nbformat_minor": 5
}
